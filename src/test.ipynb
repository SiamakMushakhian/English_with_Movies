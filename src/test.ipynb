{
 "cells": [
  {
   "cell_type": "code",
   "execution_count": 1,
   "id": "6872f806",
   "metadata": {},
   "outputs": [],
   "source": [
    "import pysrt"
   ]
  },
  {
   "cell_type": "code",
   "execution_count": 3,
   "id": "311a2ae1",
   "metadata": {},
   "outputs": [],
   "source": [
    "from data import DATA_DIR"
   ]
  },
  {
   "cell_type": "code",
   "execution_count": 5,
   "id": "faf8a926",
   "metadata": {},
   "outputs": [],
   "source": [
    "sub_file_path = DATA_DIR / 'subtitles' / 'Game.Of.Thrones.S01E01.1080p.5.1Ch.BluRay.ReEnc-DeeJayAhmed.srt'"
   ]
  },
  {
   "cell_type": "code",
   "execution_count": 6,
   "id": "5df341e8",
   "metadata": {},
   "outputs": [],
   "source": [
    "subs = pysrt.open(sub_file_path)"
   ]
  },
  {
   "cell_type": "code",
   "execution_count": 8,
   "id": "8e61a730",
   "metadata": {},
   "outputs": [
    {
     "data": {
      "text/plain": [
       "'Including Dothraki translations\\n<font color=\"#20e020\">HI removed, cleaned, and corrected by Tronar</font>'"
      ]
     },
     "execution_count": 8,
     "metadata": {},
     "output_type": "execute_result"
    }
   ],
   "source": [
    "subs[0].text"
   ]
  },
  {
   "cell_type": "markdown",
   "id": "8f570ff8",
   "metadata": {},
   "source": [
    "22:50"
   ]
  },
  {
   "cell_type": "code",
   "execution_count": null,
   "id": "bf5232dd",
   "metadata": {},
   "outputs": [],
   "source": []
  }
 ],
 "metadata": {
  "kernelspec": {
   "display_name": "Python 3 (ipykernel)",
   "language": "python",
   "name": "python3"
  },
  "language_info": {
   "codemirror_mode": {
    "name": "ipython",
    "version": 3
   },
   "file_extension": ".py",
   "mimetype": "text/x-python",
   "name": "python",
   "nbconvert_exporter": "python",
   "pygments_lexer": "ipython3",
   "version": "3.10.3"
  }
 },
 "nbformat": 4,
 "nbformat_minor": 5
}
